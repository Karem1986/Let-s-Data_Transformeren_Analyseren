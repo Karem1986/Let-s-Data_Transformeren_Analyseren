{
  "nbformat": 4,
  "nbformat_minor": 0,
  "metadata": {
    "colab": {
      "provenance": [],
      "authorship_tag": "ABX9TyM4p3fgL7rcqduh5I/PGdE7",
      "include_colab_link": true
    },
    "kernelspec": {
      "name": "python3",
      "display_name": "Python 3"
    },
    "language_info": {
      "name": "python"
    }
  },
  "cells": [
    {
      "cell_type": "markdown",
      "metadata": {
        "id": "view-in-github",
        "colab_type": "text"
      },
      "source": [
        "<a href=\"https://colab.research.google.com/github/Karem1986/LetsPython/blob/main/Avomecajo.ipynb\" target=\"_parent\"><img src=\"https://colab.research.google.com/assets/colab-badge.svg\" alt=\"Open In Colab\"/></a>"
      ]
    },
    {
      "cell_type": "markdown",
      "source": [
        "# Avocado prijzen\n",
        "\n",
        "Je hebt een dataset over de prijzen van avocado's. De belangrijkste kolommen voor deze exercise zijn 'Date' en 'AveragePrice'. Je wilt de data verrijken met de inhoud van de 'Date'-feature. Je kunt bijvoorbeeld de dag, de maand en het jaar uit het datetime object halen. Vervolgens ga je de avocadoprijzen analyseren."
      ],
      "metadata": {
        "id": "ZydPx2ZcYj3R"
      }
    },
    {
      "cell_type": "markdown",
      "source": [
        "## File upload\n",
        "door het importeren van google colab files, is het mogelijk om een file in de notebook te importeren."
      ],
      "metadata": {
        "id": "XSlndGLyZL2z"
      }
    },
    {
      "cell_type": "code",
      "source": [
        "import pandas as pd\n",
        "from google.colab import drive\n",
        "\n",
        "drive.mount('/content/gdrive')"
      ],
      "metadata": {
        "colab": {
          "base_uri": "https://localhost:8080/"
        },
        "id": "Dm4hmzgTZM4F",
        "outputId": "e2a22fd1-54c2-4408-bbaa-4c14b6382db6"
      },
      "execution_count": 1,
      "outputs": [
        {
          "output_type": "stream",
          "name": "stdout",
          "text": [
            "Mounted at /content/gdrive\n"
          ]
        }
      ]
    },
    {
      "cell_type": "markdown",
      "source": [
        "### CSV bestaand lezen naar een dataframe\n",
        "\n",
        "Laad het bestand in een Pandas dataframe. Zet het argument index_col op 'index'."
      ],
      "metadata": {
        "id": "lFHwAK4_ZTU9"
      }
    },
    {
      "cell_type": "code",
      "execution_count": 2,
      "metadata": {
        "id": "JXzC1tVeYdZD"
      },
      "outputs": [],
      "source": [
        "import pandas as pd\n",
        "\n",
        "# Load the dataset into a pandas dataframe\n",
        "df = pd.read_csv('gdrive/My Drive/Colab Notebooks/avocado_prices.csv')"
      ]
    },
    {
      "cell_type": "markdown",
      "source": [
        "### Casting\n",
        "\n",
        "Cast de kolom 'Date' naar het datatype datetime."
      ],
      "metadata": {
        "id": "mdSMBxm7coIm"
      }
    },
    {
      "cell_type": "code",
      "source": [
        "df['Date'] = pd.to_datetime(df['Date'])\n",
        "\n",
        "df.info()"
      ],
      "metadata": {
        "id": "T_cMe7fFcrF2",
        "colab": {
          "base_uri": "https://localhost:8080/"
        },
        "outputId": "26a22998-45e5-4643-dc7b-afa077e6716a"
      },
      "execution_count": 10,
      "outputs": [
        {
          "output_type": "stream",
          "name": "stdout",
          "text": [
            "<class 'pandas.core.frame.DataFrame'>\n",
            "RangeIndex: 18249 entries, 0 to 18248\n",
            "Data columns (total 6 columns):\n",
            " #   Column        Non-Null Count  Dtype         \n",
            "---  ------        --------------  -----         \n",
            " 0   Date          18249 non-null  datetime64[ns]\n",
            " 1   AveragePrice  18249 non-null  float64       \n",
            " 2   Total Volume  18249 non-null  float64       \n",
            " 3   Total Bags    18249 non-null  float64       \n",
            " 4   type          18249 non-null  object        \n",
            " 5   region        18249 non-null  object        \n",
            "dtypes: datetime64[ns](1), float64(3), object(2)\n",
            "memory usage: 855.5+ KB\n"
          ]
        }
      ]
    },
    {
      "cell_type": "markdown",
      "source": [
        "### Maand en Jaar\n",
        "\n",
        "Voeg maand en jaar toe als kolommen aan je dataframe."
      ],
      "metadata": {
        "id": "HfQNCln-cwG1"
      }
    },
    {
      "cell_type": "code",
      "source": [
        "df['Month'] = df['Date'].dt.month_name()\n",
        "df['Year'] = df['Date'].dt.year\n"
      ],
      "metadata": {
        "id": "N6YSjmj2c7AA"
      },
      "execution_count": 11,
      "outputs": []
    },
    {
      "cell_type": "markdown",
      "source": [
        "### Avocado's gemiddelde prijs\n",
        "\n",
        "Bereken de gemiddelde avocadoprijs per maand. In welke maand zijn avocado's het duurst? Sorteer de prijzen van laag naar hoog."
      ],
      "metadata": {
        "id": "H-L5cnPlTvPf"
      }
    },
    {
      "cell_type": "code",
      "source": [
        "# Calculate the average avocado price per month and round to 2 decimals\n",
        "average_price_per_month = df.groupby('Month')['AveragePrice'].mean().round(2).sort_values()\n",
        "\n",
        "# Create a table for AveragePrice per Month\n",
        "table_monthly_prices = pd.DataFrame({'Month': average_price_per_month.index, 'AveragePrice': average_price_per_month.values})\n",
        "\n",
        "# Print the table\n",
        "print(table_monthly_prices)\n"
      ],
      "metadata": {
        "colab": {
          "base_uri": "https://localhost:8080/"
        },
        "id": "ALx-Tl-JT_13",
        "outputId": "4ed89c56-fbbb-461d-92cd-559b65f0cb09"
      },
      "execution_count": 15,
      "outputs": [
        {
          "output_type": "stream",
          "name": "stdout",
          "text": [
            "        Month  AveragePrice\n",
            "0    February          1.27\n",
            "1     January          1.31\n",
            "2    December          1.33\n",
            "3       March          1.33\n",
            "4         May          1.35\n",
            "5       April          1.37\n",
            "6        June          1.41\n",
            "7        July          1.46\n",
            "8    November          1.46\n",
            "9      August          1.51\n",
            "10  September          1.57\n",
            "11    October          1.58\n"
          ]
        }
      ]
    },
    {
      "cell_type": "markdown",
      "source": [
        "### Avocados gemiddelde prijs - Jaar\n",
        "\n",
        "Bereken de gemiddelde avocadoprijs per jaar. In welk jaar waren avocado's het duurst? Sorteer de prijzen van laag naar hoog.\n",
        "\n"
      ],
      "metadata": {
        "id": "J4XrrM_VW_VG"
      }
    },
    {
      "cell_type": "code",
      "source": [
        "# Calculate the average avocado price per year and round to 2 decimals\n",
        "average_price_per_year = df.groupby('Year')['AveragePrice'].mean().round(2).sort_values()\n",
        "\n",
        "# Create a table for AveragePrice per Year\n",
        "table_yearly_prices = pd.DataFrame({'Year': average_price_per_year.index, 'AveragePrice': average_price_per_year.values})\n",
        "\n",
        "# Print the table\n",
        "print(table_yearly_prices)"
      ],
      "metadata": {
        "colab": {
          "base_uri": "https://localhost:8080/"
        },
        "id": "DRz1t5ntXTzv",
        "outputId": "db197936-fdae-45bb-9cd3-e0d55e2daa4f"
      },
      "execution_count": 16,
      "outputs": [
        {
          "output_type": "stream",
          "name": "stdout",
          "text": [
            "   Year  AveragePrice\n",
            "0  2016          1.34\n",
            "1  2018          1.35\n",
            "2  2015          1.38\n",
            "3  2017          1.52\n"
          ]
        }
      ]
    }
  ]
}