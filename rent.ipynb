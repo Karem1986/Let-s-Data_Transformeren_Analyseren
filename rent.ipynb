{
  "nbformat": 4,
  "nbformat_minor": 0,
  "metadata": {
    "colab": {
      "provenance": [],
      "authorship_tag": "ABX9TyPifhOdYWyxTP0PoQjRjijd",
      "include_colab_link": true
    },
    "kernelspec": {
      "name": "python3",
      "display_name": "Python 3"
    },
    "language_info": {
      "name": "python"
    }
  },
  "cells": [
    {
      "cell_type": "markdown",
      "metadata": {
        "id": "view-in-github",
        "colab_type": "text"
      },
      "source": [
        "<a href=\"https://colab.research.google.com/github/Karem1986/LetsPython/blob/main/rent.ipynb\" target=\"_parent\"><img src=\"https://colab.research.google.com/assets/colab-badge.svg\" alt=\"Open In Colab\"/></a>"
      ]
    },
    {
      "cell_type": "markdown",
      "source": [
        "# Histogram\n",
        "\n",
        "In de komende exercises gaan we de grafiekentheorie die je hebt geleerd, toepassen. Hiervoor gebruiken we een nieuwe library. Seaborn is een package waarmee je met relatief weinig code mooie grafieken kan maken. Net als de plotmodule van pandas is seaborn gebouwd op de module matplotlib. Deze module vormt de basis van vele Pythonplots en plotmodules.\n",
        "\n",
        "Seaborn is een 'high level' module die veel van het 'low level' werk in 'matplotlib' voor je automatiseert. Dat betekent dat je met seaborn lekker snel een visueel aantrekkelijke grafiek kan maken. Echter biedt seaborn niet alle functionaliteit van matplotlib. Als je een aanpassing wil maken in je mooie grafiek, bijvoorbeeld de kleur van de labels bij de assen veranderen, kan het zijn dat je matplotlib moet gebruiken. Voor nu verkennen we de functionaliteit van seaborn."
      ],
      "metadata": {
        "id": "-j_Mq4Uyki9u"
      }
    },
    {
      "cell_type": "markdown",
      "source": [
        "## File upload\n",
        "door het importeren van google colab files, is het mogelijk om een file in de notebook te importeren."
      ],
      "metadata": {
        "id": "pJX0eyAhkxTt"
      }
    },
    {
      "cell_type": "code",
      "source": [
        "from google.colab import files\n",
        "uploaded = files.upload()"
      ],
      "metadata": {
        "colab": {
          "base_uri": "https://localhost:8080/",
          "height": 73
        },
        "id": "KM2gsXqgkyWe",
        "outputId": "a0189d27-c328-4b82-d443-02225df16c38"
      },
      "execution_count": 1,
      "outputs": [
        {
          "output_type": "display_data",
          "data": {
            "text/plain": [
              "<IPython.core.display.HTML object>"
            ],
            "text/html": [
              "\n",
              "     <input type=\"file\" id=\"files-edf7c0b5-4a12-40aa-9034-80f2b61def25\" name=\"files[]\" multiple disabled\n",
              "        style=\"border:none\" />\n",
              "     <output id=\"result-edf7c0b5-4a12-40aa-9034-80f2b61def25\">\n",
              "      Upload widget is only available when the cell has been executed in the\n",
              "      current browser session. Please rerun this cell to enable.\n",
              "      </output>\n",
              "      <script>// Copyright 2017 Google LLC\n",
              "//\n",
              "// Licensed under the Apache License, Version 2.0 (the \"License\");\n",
              "// you may not use this file except in compliance with the License.\n",
              "// You may obtain a copy of the License at\n",
              "//\n",
              "//      http://www.apache.org/licenses/LICENSE-2.0\n",
              "//\n",
              "// Unless required by applicable law or agreed to in writing, software\n",
              "// distributed under the License is distributed on an \"AS IS\" BASIS,\n",
              "// WITHOUT WARRANTIES OR CONDITIONS OF ANY KIND, either express or implied.\n",
              "// See the License for the specific language governing permissions and\n",
              "// limitations under the License.\n",
              "\n",
              "/**\n",
              " * @fileoverview Helpers for google.colab Python module.\n",
              " */\n",
              "(function(scope) {\n",
              "function span(text, styleAttributes = {}) {\n",
              "  const element = document.createElement('span');\n",
              "  element.textContent = text;\n",
              "  for (const key of Object.keys(styleAttributes)) {\n",
              "    element.style[key] = styleAttributes[key];\n",
              "  }\n",
              "  return element;\n",
              "}\n",
              "\n",
              "// Max number of bytes which will be uploaded at a time.\n",
              "const MAX_PAYLOAD_SIZE = 100 * 1024;\n",
              "\n",
              "function _uploadFiles(inputId, outputId) {\n",
              "  const steps = uploadFilesStep(inputId, outputId);\n",
              "  const outputElement = document.getElementById(outputId);\n",
              "  // Cache steps on the outputElement to make it available for the next call\n",
              "  // to uploadFilesContinue from Python.\n",
              "  outputElement.steps = steps;\n",
              "\n",
              "  return _uploadFilesContinue(outputId);\n",
              "}\n",
              "\n",
              "// This is roughly an async generator (not supported in the browser yet),\n",
              "// where there are multiple asynchronous steps and the Python side is going\n",
              "// to poll for completion of each step.\n",
              "// This uses a Promise to block the python side on completion of each step,\n",
              "// then passes the result of the previous step as the input to the next step.\n",
              "function _uploadFilesContinue(outputId) {\n",
              "  const outputElement = document.getElementById(outputId);\n",
              "  const steps = outputElement.steps;\n",
              "\n",
              "  const next = steps.next(outputElement.lastPromiseValue);\n",
              "  return Promise.resolve(next.value.promise).then((value) => {\n",
              "    // Cache the last promise value to make it available to the next\n",
              "    // step of the generator.\n",
              "    outputElement.lastPromiseValue = value;\n",
              "    return next.value.response;\n",
              "  });\n",
              "}\n",
              "\n",
              "/**\n",
              " * Generator function which is called between each async step of the upload\n",
              " * process.\n",
              " * @param {string} inputId Element ID of the input file picker element.\n",
              " * @param {string} outputId Element ID of the output display.\n",
              " * @return {!Iterable<!Object>} Iterable of next steps.\n",
              " */\n",
              "function* uploadFilesStep(inputId, outputId) {\n",
              "  const inputElement = document.getElementById(inputId);\n",
              "  inputElement.disabled = false;\n",
              "\n",
              "  const outputElement = document.getElementById(outputId);\n",
              "  outputElement.innerHTML = '';\n",
              "\n",
              "  const pickedPromise = new Promise((resolve) => {\n",
              "    inputElement.addEventListener('change', (e) => {\n",
              "      resolve(e.target.files);\n",
              "    });\n",
              "  });\n",
              "\n",
              "  const cancel = document.createElement('button');\n",
              "  inputElement.parentElement.appendChild(cancel);\n",
              "  cancel.textContent = 'Cancel upload';\n",
              "  const cancelPromise = new Promise((resolve) => {\n",
              "    cancel.onclick = () => {\n",
              "      resolve(null);\n",
              "    };\n",
              "  });\n",
              "\n",
              "  // Wait for the user to pick the files.\n",
              "  const files = yield {\n",
              "    promise: Promise.race([pickedPromise, cancelPromise]),\n",
              "    response: {\n",
              "      action: 'starting',\n",
              "    }\n",
              "  };\n",
              "\n",
              "  cancel.remove();\n",
              "\n",
              "  // Disable the input element since further picks are not allowed.\n",
              "  inputElement.disabled = true;\n",
              "\n",
              "  if (!files) {\n",
              "    return {\n",
              "      response: {\n",
              "        action: 'complete',\n",
              "      }\n",
              "    };\n",
              "  }\n",
              "\n",
              "  for (const file of files) {\n",
              "    const li = document.createElement('li');\n",
              "    li.append(span(file.name, {fontWeight: 'bold'}));\n",
              "    li.append(span(\n",
              "        `(${file.type || 'n/a'}) - ${file.size} bytes, ` +\n",
              "        `last modified: ${\n",
              "            file.lastModifiedDate ? file.lastModifiedDate.toLocaleDateString() :\n",
              "                                    'n/a'} - `));\n",
              "    const percent = span('0% done');\n",
              "    li.appendChild(percent);\n",
              "\n",
              "    outputElement.appendChild(li);\n",
              "\n",
              "    const fileDataPromise = new Promise((resolve) => {\n",
              "      const reader = new FileReader();\n",
              "      reader.onload = (e) => {\n",
              "        resolve(e.target.result);\n",
              "      };\n",
              "      reader.readAsArrayBuffer(file);\n",
              "    });\n",
              "    // Wait for the data to be ready.\n",
              "    let fileData = yield {\n",
              "      promise: fileDataPromise,\n",
              "      response: {\n",
              "        action: 'continue',\n",
              "      }\n",
              "    };\n",
              "\n",
              "    // Use a chunked sending to avoid message size limits. See b/62115660.\n",
              "    let position = 0;\n",
              "    do {\n",
              "      const length = Math.min(fileData.byteLength - position, MAX_PAYLOAD_SIZE);\n",
              "      const chunk = new Uint8Array(fileData, position, length);\n",
              "      position += length;\n",
              "\n",
              "      const base64 = btoa(String.fromCharCode.apply(null, chunk));\n",
              "      yield {\n",
              "        response: {\n",
              "          action: 'append',\n",
              "          file: file.name,\n",
              "          data: base64,\n",
              "        },\n",
              "      };\n",
              "\n",
              "      let percentDone = fileData.byteLength === 0 ?\n",
              "          100 :\n",
              "          Math.round((position / fileData.byteLength) * 100);\n",
              "      percent.textContent = `${percentDone}% done`;\n",
              "\n",
              "    } while (position < fileData.byteLength);\n",
              "  }\n",
              "\n",
              "  // All done.\n",
              "  yield {\n",
              "    response: {\n",
              "      action: 'complete',\n",
              "    }\n",
              "  };\n",
              "}\n",
              "\n",
              "scope.google = scope.google || {};\n",
              "scope.google.colab = scope.google.colab || {};\n",
              "scope.google.colab._files = {\n",
              "  _uploadFiles,\n",
              "  _uploadFilesContinue,\n",
              "};\n",
              "})(self);\n",
              "</script> "
            ]
          },
          "metadata": {}
        },
        {
          "output_type": "stream",
          "name": "stdout",
          "text": [
            "Saving House_Rent_Dataset.csv to House_Rent_Dataset.csv\n"
          ]
        }
      ]
    },
    {
      "cell_type": "markdown",
      "source": [
        "### CSV bestaand lezen naar een dataframe\n",
        "\n",
        "CSV bestaand geuploaded in de notebook en vervolgens, het bestaand gelezen als dataframe met Pandas"
      ],
      "metadata": {
        "id": "4_tkEakYlRXb"
      }
    },
    {
      "cell_type": "code",
      "source": [
        "import pandas as pd\n",
        "\n",
        "df = pd.read_csv(\"House_Rent_Dataset.csv\")\n",
        "print(df)"
      ],
      "metadata": {
        "colab": {
          "base_uri": "https://localhost:8080/"
        },
        "id": "eudbK3EGlSc8",
        "outputId": "b029e630-efdf-4d3a-abff-71ad46f49cd3"
      },
      "execution_count": 2,
      "outputs": [
        {
          "output_type": "stream",
          "name": "stdout",
          "text": [
            "      Unnamed: 0   Posted On  BHK   Rent  Size            Floor    Area Type  \\\n",
            "0            412  2022-04-23    3  36125  1700  Ground out of 2   Super Area   \n",
            "1            243  2022-04-23    2   7000   450       1 out of 3  Carpet Area   \n",
            "2             53  2022-04-23    2  15000  1000  Ground out of 2   Super Area   \n",
            "3            359  2022-04-23    1  15000  1000       2 out of 3   Super Area   \n",
            "4            417  2022-04-23    1   6500   800  Ground out of 1  Carpet Area   \n",
            "...          ...         ...  ...    ...   ...              ...          ...   \n",
            "4119        2828  2022-07-10    3  38000  1300      9 out of 19  Carpet Area   \n",
            "4120        3389  2022-07-10    3  12000  1250       2 out of 6  Carpet Area   \n",
            "4121        3042  2022-07-10    3  40000  1400       3 out of 5  Carpet Area   \n",
            "4122        2583  2022-07-10    2  17500  1200       2 out of 2  Carpet Area   \n",
            "4123        2984  2022-07-11    2  12000   550  Ground out of 1   Super Area   \n",
            "\n",
            "            Area Locality       City Furnishing Status  Tenant Preferred  \\\n",
            "0          Salt Lake City    Kolkata       Unfurnished  Bachelors/Family   \n",
            "1               safuipara    Kolkata         Furnished         Bachelors   \n",
            "2               Bansdroni    Kolkata       Unfurnished  Bachelors/Family   \n",
            "3             Barrackpore    Kolkata       Unfurnished  Bachelors/Family   \n",
            "4             Santragachi    Kolkata       Unfurnished  Bachelors/Family   \n",
            "...                   ...        ...               ...               ...   \n",
            "4119  Chromepet, GST Road    Chennai       Unfurnished  Bachelors/Family   \n",
            "4120                Alwal  Hyderabad         Furnished            Family   \n",
            "4121         Nandambakkam    Chennai         Furnished  Bachelors/Family   \n",
            "4122      Anna Nagar West    Chennai         Furnished  Bachelors/Family   \n",
            "4123          Choolaimedu    Chennai       Unfurnished  Bachelors/Family   \n",
            "\n",
            "      Bathroom Point of Contact  State  \n",
            "0            2    Contact Owner      2  \n",
            "1            2    Contact Owner      1  \n",
            "2            2    Contact Owner      1  \n",
            "3            1    Contact Owner      1  \n",
            "4            1    Contact Owner      1  \n",
            "...        ...              ...    ...  \n",
            "4119         3    Contact Agent      2  \n",
            "4120         3    Contact Owner      3  \n",
            "4121         3    Contact Agent      3  \n",
            "4122         2    Contact Owner      2  \n",
            "4123         2    Contact Owner      1  \n",
            "\n",
            "[4124 rows x 14 columns]\n"
          ]
        }
      ]
    },
    {
      "cell_type": "markdown",
      "source": [
        "### Plot een histogram met seaborn waarin je de verdeling van de kolom Rent ziet.\n",
        "\n",
        "Hier moeten we de Seaborn package gebruiken"
      ],
      "metadata": {
        "id": "xr8Z-9gzlBa2"
      }
    },
    {
      "cell_type": "code",
      "source": [
        "import seaborn as sns\n",
        "import matplotlib.pyplot as plt\n",
        "\n",
        "# Set the figure size\n",
        "plt.figure(figsize=(10, 10))\n",
        "\n",
        "# Plot the histogram, bins represents the number of bars in the histogram-Here NOT specifying the number of bins.\n",
        "sns.histplot(x=\"Rent\", data=df, kde=False)\n",
        "\n",
        "# Set labels and title\n",
        "plt.xlabel(\"Rent (INR)\")\n",
        "plt.ylabel(\"Number of Apartments\")\n",
        "plt.title(\"Histogram of the monthly rent of Apartments\")\n",
        "\n",
        "# Show the plot\n",
        "plt.show()\n"
      ],
      "metadata": {
        "colab": {
          "base_uri": "https://localhost:8080/",
          "height": 872
        },
        "id": "RXtbtmhhmEm9",
        "outputId": "31bb5316-71cb-4908-efef-a06b3838f324"
      },
      "execution_count": 12,
      "outputs": [
        {
          "output_type": "display_data",
          "data": {
            "text/plain": [
              "<Figure size 1000x1000 with 1 Axes>"
            ],
            "image/png": "[encoded data removed]"
          },
          "metadata": {}
        }
      ]
    },
    {
      "cell_type": "markdown",
      "source": [
        "### Histogram met 50 bins\n",
        "Maak dezelfde histogram nog een keer, maar specificeer nu dat het aantal bins 50 moet zijn;"
      ],
      "metadata": {
        "id": "qyQRRJ5kmTo1"
      }
    },
    {
      "cell_type": "code",
      "source": [
        "import seaborn as sns\n",
        "import matplotlib.pyplot as plt\n",
        "\n",
        "# Set the figure size\n",
        "plt.figure(figsize=(10, 10))\n",
        "\n",
        "# Plot the histogram, bins represents the number of bars in the histogram\n",
        "sns.histplot(x=\"Rent\", data=df, bins=50, kde=False)\n",
        "\n",
        "# Set labels and title\n",
        "plt.xlabel(\"Rent (INR)\")\n",
        "plt.ylabel(\"Number of Apartments\")\n",
        "plt.title(\"Histogram of the monthly rent of Apartments\")\n",
        "\n",
        "# Show the plot\n",
        "plt.show()\n"
      ],
      "metadata": {
        "colab": {
          "base_uri": "https://localhost:8080/",
          "height": 872
        },
        "id": "J5ttjNAAmXcU",
        "outputId": "baf01f84-f23d-46fd-c1b5-f24f388c963a"
      },
      "execution_count": 11,
      "outputs": [
        {
          "output_type": "display_data",
          "data": {
            "text/plain": [
              "<Figure size 1000x1000 with 1 Axes>"
            ],
            "image/png": "[encoded data removed]"
          },
          "metadata": {}
        }
      ]
    },
    {
      "cell_type": "markdown",
      "source": [
        "### Voordelen en nadelen van een hoog aantal bins\n",
        "\n",
        "## Voordelen:\n",
        "\n",
        "\n",
        "1.   Meer details over de data worden makkelijk zichbaar in de Histogram.\n",
        "2.   De waarden binnen een bepaalde range zijn makkelijk om te zien waardoor in een ogenblik kunnen we bijvoorveld weten op welke prijs de meerstal appartement worden verhuurd.\n",
        "\n",
        "## Nadelen\n",
        "\n",
        "\n",
        "1.   Het belangrikste informatie over specifieke data wordt niet zo makkelijk geidentificeerd.\n",
        "2.   Er is een risico om in te veel details verwald te vallen, dus time verliezen met kleine details.\n",
        "\n"
      ],
      "metadata": {
        "id": "9U7hcfGmnx-g"
      }
    }
  ]
}