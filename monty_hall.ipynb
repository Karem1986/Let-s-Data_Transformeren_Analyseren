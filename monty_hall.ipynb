{
  "nbformat": 4,
  "nbformat_minor": 0,
  "metadata": {
    "colab": {
      "provenance": [],
      "authorship_tag": "ABX9TyMFmT742ep00Zfc5+Qg7rll",
      "include_colab_link": true
    },
    "kernelspec": {
      "name": "python3",
      "display_name": "Python 3"
    },
    "language_info": {
      "name": "python"
    }
  },
  "cells": [
    {
      "cell_type": "markdown",
      "metadata": {
        "id": "view-in-github",
        "colab_type": "text"
      },
      "source": [
        "<a href=\"https://colab.research.google.com/github/Karem1986/LetsPython/blob/main/monty_hall.ipynb\" target=\"_parent\"><img src=\"https://colab.research.google.com/assets/colab-badge.svg\" alt=\"Open In Colab\"/></a>"
      ]
    },
    {
      "cell_type": "markdown",
      "source": [
        "# Definitie van het probleem\n",
        "\n",
        "Het Monty Hall probleem dankt zijn naam aan de host van een een Amerikaanse spelshow. Het spel werkte als volgt: in de studio staan drie deuren, achter 1 van de deuren ligt een zak geld, achter de andere twee staan geiten. Deelnemers weten niet wat achter welke deur staat, en moeten 1 van de deuren kiezen. Wat er achter de deur ligt mogen ze mee naar huis nemen.\n",
        "\n",
        "Als de deelnemer een deur gekozen heeft opent de presentator 1 van de andere deuren. De geopende deur bevat altijd een geit. De deelnemer staat nu voor een keuze: blijf je bij de deur die je gekozen hebt, of wissel je van deur.\n"
      ],
      "metadata": {
        "id": "sZNPwDxg8L6i"
      }
    },
    {
      "cell_type": "code",
      "source": [
        "import random\n",
        "\n",
        "def play_scenario(behaviour, amount_of_doors=3):\n",
        "    \"\"\"\n",
        "        Simulate the Monty Hall problem. The `behaviour` argument\n",
        "        is a string that is either \"stay\" or \"switch\".\n",
        "        The function returns a boolean on whether you have\n",
        "        won the game or not.\n",
        "    \"\"\"\n",
        "    prize_door = random.randint(1, amount_of_doors)\n",
        "\n",
        "    # Your choice doesn't really matter, since it's all random.\n",
        "    your_first_choice = random.randint(1, amount_of_doors)\n",
        "\n",
        "    # The quizmaster now reveals all doors except for two (your choice and one other door)\n",
        "    # so you make the decision here now.\n",
        "    if your_first_choice == prize_door:\n",
        "        return (behaviour == 'stay')\n",
        "    else:\n",
        "        return (behaviour == 'switch')"
      ],
      "metadata": {
        "id": "r6XsoGv18Vw9"
      },
      "execution_count": null,
      "outputs": []
    },
    {
      "cell_type": "markdown",
      "source": [
        "Met deze functie gaan we simulaties runnen om te controleren of de Monty Hall problem klopt. Heeft het zin om te switchen van deur, of maakt het niet uit omdat het toch twee deuren zijn en de kans op de juiste dus 50/50 is?"
      ],
      "metadata": {
        "id": "Uthib5cb9U7T"
      }
    },
    {
      "cell_type": "markdown",
      "source": [
        "## Simulaties van het spel\n",
        "\n",
        "In dit stuk gaan we de spelshow simuleren. We runnen hiervoor tienduizend simulaties.\n",
        "\n"
      ],
      "metadata": {
        "id": "oWc27Q_u9W-T"
      }
    },
    {
      "cell_type": "code",
      "source": [
        "SIMULATIONS = 100000\n",
        "\n",
        "def run_simulation(amount_of_doors):\n",
        "    \"\"\"\n",
        "        Execute the Monty Hall problem many, many times to get an estimation of the distribution of odds.\n",
        "    \"\"\"\n",
        "    switch, stay = 0, 0\n",
        "\n",
        "    for _ in range(SIMULATIONS):\n",
        "        if play_scenario(\"switch\", amount_of_doors):\n",
        "            # We switched and won!\n",
        "            switch += 1\n",
        "        else:\n",
        "            # It would've been better to stay.\n",
        "            stay += 1\n",
        "    return (\n",
        "        switch / SIMULATIONS,\n",
        "        stay   / SIMULATIONS\n",
        "    )"
      ],
      "metadata": {
        "id": "QdAJWxjz9iiI"
      },
      "execution_count": null,
      "outputs": []
    },
    {
      "cell_type": "markdown",
      "source": [
        "### Monty Hall Probleem met 3 deuren\n",
        "\n",
        "We voeren de test uit met 3 deuren in totaal, en bekijken het resultaat.\n"
      ],
      "metadata": {
        "id": "kV3_gcwY96Gx"
      }
    },
    {
      "cell_type": "code",
      "source": [
        "switch, stay = run_simulation(3)\n",
        "\n",
        "print(str(100*switch)[:6] + \"%\\t of the time, it is better to switch.\")\n",
        "print(str(100*stay)[:6] + \"%\\t of the time, it is better to stay.\")"
      ],
      "metadata": {
        "id": "uxBmG7fq-BmZ"
      },
      "execution_count": null,
      "outputs": []
    },
    {
      "cell_type": "markdown",
      "source": [
        "66.594%\t of the time, it is better to switch.\n",
        "33.406%\t of the time, it is better to stay."
      ],
      "metadata": {
        "id": "Jd4DjiH1-RoY"
      }
    },
    {
      "cell_type": "markdown",
      "source": [
        "#### Monty Hall Probleem met 100 deuren\n",
        "\n",
        "Als we het experiment uitvoeren met 100 deuren, dan zie je algauw hoeveel verschil het maakt. Een simulatie van 100 deuren geeft ook een hoop meer intuïtie over hoe het Monty Hall Probleem werkt."
      ],
      "metadata": {
        "id": "PHJwwQm8-WUr"
      }
    },
    {
      "cell_type": "code",
      "source": [
        "switch, stay = run_simulation(100)\n",
        "\n",
        "print(str(100*switch)[:6] + \"%\\t of the time, it is better to switch.\")\n",
        "print(str(100*stay)[:6] + \"%\\t of the time, it is better to stay.\")"
      ],
      "metadata": {
        "id": "n7PYSidK-k7o"
      },
      "execution_count": null,
      "outputs": []
    },
    {
      "cell_type": "markdown",
      "source": [
        "98.995%\t of the time, it is better to switch.\n",
        "1.005%\t of the time, it is better to stay."
      ],
      "metadata": {
        "id": "I_lF1qmC-nOB"
      }
    },
    {
      "cell_type": "code",
      "source": [],
      "metadata": {
        "id": "IRqVKIn_BiPv"
      },
      "execution_count": null,
      "outputs": []
    }
  ]
}