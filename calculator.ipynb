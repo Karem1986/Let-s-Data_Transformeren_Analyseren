{
  "nbformat": 4,
  "nbformat_minor": 0,
  "metadata": {
    "colab": {
      "provenance": [],
      "authorship_tag": "ABX9TyNxiP510D2NvNV1LiHu1mLd",
      "include_colab_link": true
    },
    "kernelspec": {
      "name": "python3",
      "display_name": "Python 3"
    },
    "language_info": {
      "name": "python"
    }
  },
  "cells": [
    {
      "cell_type": "markdown",
      "metadata": {
        "id": "view-in-github",
        "colab_type": "text"
      },
      "source": [
        "<a href=\"https://colab.research.google.com/github/Karem1986/LetsPython/blob/main/calculator.ipynb\" target=\"_parent\"><img src=\"https://colab.research.google.com/assets/colab-badge.svg\" alt=\"Open In Colab\"/></a>"
      ]
    },
    {
      "cell_type": "markdown",
      "source": [
        "### Calculator\n",
        "\n",
        "We gaan een programma maken dat twee getallen met elkaar vermenigvuldigt.\n",
        "\n",
        "We are going to create a program that multiplies two numbers.\n"
      ],
      "metadata": {
        "id": "PnUNj_7-Z_ps"
      }
    },
    {
      "cell_type": "code",
      "source": [
        "# lengte = '8'\n",
        "# breedte = '6'\n",
        "lengte = 8\n",
        "breedte = 6\n",
        "# print(type(lengte))\n",
        "# print(type(breedte))\n",
        "print(\"area: \", lengte * breedte)"
      ],
      "metadata": {
        "colab": {
          "base_uri": "https://localhost:8080/"
        },
        "id": "8DnwbkHTaSWS",
        "outputId": "eeacb0e8-4ef2-417a-da8b-d0756a7c87ac"
      },
      "execution_count": 2,
      "outputs": [
        {
          "output_type": "stream",
          "name": "stdout",
          "text": [
            "area:  48\n"
          ]
        }
      ]
    }
  ]
}