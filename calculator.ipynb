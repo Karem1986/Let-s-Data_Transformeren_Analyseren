{
  "nbformat": 4,
  "nbformat_minor": 0,
  "metadata": {
    "colab": {
      "provenance": [],
      "authorship_tag": "ABX9TyOwsFCRxtiYpHeDUgzAgvH7",
      "include_colab_link": true
    },
    "kernelspec": {
      "name": "python3",
      "display_name": "Python 3"
    },
    "language_info": {
      "name": "python"
    }
  },
  "cells": [
    {
      "cell_type": "markdown",
      "metadata": {
        "id": "view-in-github",
        "colab_type": "text"
      },
      "source": [
        "<a href=\"https://colab.research.google.com/github/Karem1986/LetsPython/blob/main/calculator.ipynb\" target=\"_parent\"><img src=\"https://colab.research.google.com/assets/colab-badge.svg\" alt=\"Open In Colab\"/></a>"
      ]
    },
    {
      "cell_type": "markdown",
      "source": [
        "### Calculator\n",
        "\n",
        "We gaan een programma maken dat twee getallen met elkaar vermenigvuldigt.\n",
        "\n",
        "We are going to create a program that multiplies two numbers.\n"
      ],
      "metadata": {
        "id": "PnUNj_7-Z_ps"
      }
    },
    {
      "cell_type": "code",
      "source": [
        "# lengte = '8'\n",
        "# breedte = '6'\n",
        "lengte = 8\n",
        "breedte = 6\n",
        "# print(type(lengte))\n",
        "# print(type(breedte))\n",
        "print(\"area: \", lengte * breedte)"
      ],
      "metadata": {
        "colab": {
          "base_uri": "https://localhost:8080/"
        },
        "id": "8DnwbkHTaSWS",
        "outputId": "eeacb0e8-4ef2-417a-da8b-d0756a7c87ac"
      },
      "execution_count": 2,
      "outputs": [
        {
          "output_type": "stream",
          "name": "stdout",
          "text": [
            "area:  48\n"
          ]
        }
      ]
    },
    {
      "cell_type": "markdown",
      "source": [
        "### Floats in Python\n",
        "\n",
        "In Python schrijf je floats niet met een komma, maar met een punt (zoals in de meeste Engelstalige landen wordt gedaan). We kunnen ook de float() functie gebruiken om een string om te zetten naar een float, net zoals met int()\n"
      ],
      "metadata": {
        "id": "CJgT5Ditkx5U"
      }
    },
    {
      "cell_type": "code",
      "source": [
        "lengte = '8.5'\n",
        "breedte = '6.7'\n",
        "print(type(lengte))\n",
        "print(type(breedte))"
      ],
      "metadata": {
        "colab": {
          "base_uri": "https://localhost:8080/"
        },
        "id": "t2NfCUGclIbG",
        "outputId": "72b467be-8d64-4972-a601-8bb2f2eaf3ac"
      },
      "execution_count": 4,
      "outputs": [
        {
          "output_type": "stream",
          "name": "stdout",
          "text": [
            "<class 'str'>\n",
            "<class 'str'>\n"
          ]
        }
      ]
    },
    {
      "cell_type": "markdown",
      "source": [
        "### Bereken de oppervlaakte\n",
        "\n",
        "Bereken daarna de oppervlakte in het notebook. Je mag de bovenstaande code niet aanpassen. Je zult dus de datatypen van lengte en breedte moeten aanpassen. De oppervlakte bereken je door de lengte met de breedte te vermenigvuldigen."
      ],
      "metadata": {
        "id": "eaqUS8TIlfoq"
      }
    },
    {
      "cell_type": "code",
      "source": [
        "lengte = '8.5'\n",
        "breedte = '6.7'\n",
        "print(\"area: \", float(lengte) * float(breedte))\n"
      ],
      "metadata": {
        "colab": {
          "base_uri": "https://localhost:8080/"
        },
        "id": "7rRMuypGls4x",
        "outputId": "30b9b473-00b4-4fa6-a06a-65102180f261"
      },
      "execution_count": 11,
      "outputs": [
        {
          "output_type": "stream",
          "name": "stdout",
          "text": [
            "area:  56.95\n"
          ]
        }
      ]
    },
    {
      "cell_type": "markdown",
      "source": [
        "### Divide and Conquer\n",
        "\n",
        "Delen door 0, dat mag niet in Python!"
      ],
      "metadata": {
        "id": "09tkudkcrTk1"
      }
    },
    {
      "cell_type": "code",
      "source": [
        "kosten = 10\n",
        "aantal_personen = 0\n",
        "kosten_per_person = kosten / aantal_personen\n",
        "print(kosten_per_person)"
      ],
      "metadata": {
        "colab": {
          "base_uri": "https://localhost:8080/",
          "height": 236
        },
        "id": "9fhdKYbtrQUq",
        "outputId": "7fc59508-052b-4c36-a708-91cbdfa52992"
      },
      "execution_count": 6,
      "outputs": [
        {
          "output_type": "error",
          "ename": "ZeroDivisionError",
          "evalue": "ignored",
          "traceback": [
            "\u001b[0;31m---------------------------------------------------------------------------\u001b[0m",
            "\u001b[0;31mZeroDivisionError\u001b[0m                         Traceback (most recent call last)",
            "\u001b[0;32m<ipython-input-6-0004c4f3e11e>\u001b[0m in \u001b[0;36m<cell line: 3>\u001b[0;34m()\u001b[0m\n\u001b[1;32m      1\u001b[0m \u001b[0mkosten\u001b[0m \u001b[0;34m=\u001b[0m \u001b[0;36m10\u001b[0m\u001b[0;34m\u001b[0m\u001b[0;34m\u001b[0m\u001b[0m\n\u001b[1;32m      2\u001b[0m \u001b[0maantal_personen\u001b[0m \u001b[0;34m=\u001b[0m \u001b[0;36m0\u001b[0m\u001b[0;34m\u001b[0m\u001b[0;34m\u001b[0m\u001b[0m\n\u001b[0;32m----> 3\u001b[0;31m \u001b[0mkosten_per_person\u001b[0m \u001b[0;34m=\u001b[0m \u001b[0mkosten\u001b[0m \u001b[0;34m/\u001b[0m \u001b[0maantal_personen\u001b[0m\u001b[0;34m\u001b[0m\u001b[0;34m\u001b[0m\u001b[0m\n\u001b[0m\u001b[1;32m      4\u001b[0m \u001b[0mprint\u001b[0m\u001b[0;34m(\u001b[0m\u001b[0mkosten_per_person\u001b[0m\u001b[0;34m)\u001b[0m\u001b[0;34m\u001b[0m\u001b[0;34m\u001b[0m\u001b[0m\n",
            "\u001b[0;31mZeroDivisionError\u001b[0m: division by zero"
          ]
        }
      ]
    },
    {
      "cell_type": "markdown",
      "source": [
        "### Shortcut to divide by 0\n",
        "\n",
        "Je kunt twee waardes met elkaar vergelijken door middel van ==. De uitkomst daarvan noemen we een boolean, en kan True of False zijn.\n"
      ],
      "metadata": {
        "id": "zIfqJ8ROrtGD"
      }
    },
    {
      "cell_type": "code",
      "source": [
        "kosten = 10\n",
        "aantal_personen = 0\n",
        "\n",
        "if aantal_personen == 0:\n",
        "  print(\"Kan niet delen door 0\")\n",
        "else:\n",
        "  kosten_per_person = kosten / aantal_personen\n",
        "  print(kosten_per_person)"
      ],
      "metadata": {
        "colab": {
          "base_uri": "https://localhost:8080/"
        },
        "id": "gSX6C5Kfrzza",
        "outputId": "7c03f0e5-5b0d-4bb3-d34f-d89b16f7eee8"
      },
      "execution_count": 10,
      "outputs": [
        {
          "output_type": "stream",
          "name": "stdout",
          "text": [
            "Kan niet delen door 0\n"
          ]
        }
      ]
    },
    {
      "cell_type": "markdown",
      "source": [
        "### Een werkende rekenmachine\n",
        "\n",
        "De rekenmachine kan uiteindelijk een simpele berekening doen met twee getallen\n"
      ],
      "metadata": {
        "id": "jRy_4_n5vPgY"
      }
    },
    {
      "cell_type": "code",
      "source": [
        "# De input wordt automatisch omgezet naar een string.\n",
        "\n",
        "eerste_getal = input(str(\"Type first number \"))\n",
        "twede_getal = input(str(\"Type second number \"))\n",
        "\n",
        "#  Zorg dat de twee ingevoerde getallen naar een float omgezet worden.\n",
        "\n",
        "eerste_getal_float = float(eerste_getal)\n",
        "print(type(eerste_getal_float))\n",
        "twede_getal_float = float(twede_getal)\n",
        "print(type(twede_getal_float))\n",
        "\n",
        "# Vraag welke berekening de gebruiker wil doen door het invoeren van een +, -, * of /\n",
        "\n",
        "vraag_berekening = input(\"welke berekening wil je doen: +, - , * of /  \" )\n",
        "print(vraag_berekening)\n",
        "\n",
        "\n"
      ],
      "metadata": {
        "colab": {
          "base_uri": "https://localhost:8080/"
        },
        "id": "rmFO4X22xbfY",
        "outputId": "103b9b66-7178-499e-8d18-9c2be06277ea"
      },
      "execution_count": 21,
      "outputs": [
        {
          "output_type": "stream",
          "name": "stdout",
          "text": [
            "Type first number 1\n",
            "Type second number 2\n",
            "<class 'float'>\n",
            "<class 'float'>\n",
            "welke berekening wil je doen: +, - , * of /  /\n",
            "/\n"
          ]
        }
      ]
    },
    {
      "cell_type": "markdown",
      "source": [
        "### Taking it further\n",
        "\n",
        "Bouw je rekenmachine verder af. De gebruiker kan input geven (twee getallen en een operator). Zorg nu dat de juiste berekening wordt gemaakt."
      ],
      "metadata": {
        "id": "36I45aZe1ycP"
      }
    },
    {
      "cell_type": "code",
      "source": [
        "# De input wordt automatisch omgezet naar een string.\n",
        "\n",
        "eerste_getal = input(str(\"Type first number \"))\n",
        "twede_getal = input(str(\"Type second number \"))\n",
        "\n",
        "#  Zorg dat de twee ingevoerde getallen naar een float omgezet worden.\n",
        "\n",
        "eerste_getal_float = float(eerste_getal)\n",
        "print(type(eerste_getal_float))\n",
        "twede_getal_float = float(twede_getal)\n",
        "print(type(twede_getal_float))\n",
        "\n",
        "# Vraag welke berekening de gebruiker wil doen door het invoeren van een +, -, * of /\n",
        "\n",
        "vraag_berekening = input(\"welke berekening wil je doen: +, - , * of / , ofwel : \" )\n",
        "\n",
        "print(vraag_berekening)\n",
        "\n",
        "if vraag_berekening == \"+\":\n",
        "   sum = eerste_getal_float + twede_getal_float\n",
        "   print(sum)\n",
        "if vraag_berekening == \"-\":\n",
        "   minus = eerste_getal_float - twede_getal_float\n",
        "   print(minus)\n",
        "if vraag_berekening == \"*\":\n",
        "   mult = eerste_getal_float * twede_getal_float\n",
        "   print(mult)\n",
        "if vraag_berekening == \"/\":\n",
        "   if eerste_getal_float == 0 or twede_getal_float == 0:\n",
        "    print(\"Kan niet delen door 0\")\n",
        "   else:\n",
        "    delen = eerste_getal_float / twede_getal_float\n",
        "    print(delen)\n",
        "print(\"End\")"
      ],
      "metadata": {
        "colab": {
          "base_uri": "https://localhost:8080/"
        },
        "id": "AcVTqsml2TQF",
        "outputId": "180f50eb-fd33-4c22-d241-3be71a812672"
      },
      "execution_count": 1,
      "outputs": [
        {
          "output_type": "stream",
          "name": "stdout",
          "text": [
            "Type first number 8\n",
            "Type second number 4\n",
            "<class 'float'>\n",
            "<class 'float'>\n",
            "welke berekening wil je doen: +, - , * of /  :\n",
            ":\n",
            "2.0\n",
            "End\n"
          ]
        }
      ]
    },
    {
      "cell_type": "markdown",
      "source": [
        "### Check valid operator\n",
        "\n",
        "Check met behulp van Membership Operators of de ingevoerde operator ongeldig is. Als dat het geval is, kan je niet een berekening uitvoeren en moet het programma dus stoppen.\n",
        "\n"
      ],
      "metadata": {
        "id": "UvLtbaLrYwoi"
      }
    },
    {
      "cell_type": "code",
      "source": [
        "# De input wordt automatisch omgezet naar een string.\n",
        "\n",
        "eerste_getal = input(str(\"Type first number \"))\n",
        "twede_getal = input(str(\"Type second number \"))\n",
        "\n",
        "#  Zorg dat de twee ingevoerde getallen naar een float omgezet worden.\n",
        "\n",
        "eerste_getal_float = float(eerste_getal)\n",
        "print(type(eerste_getal_float))\n",
        "twede_getal_float = float(twede_getal)\n",
        "print(type(twede_getal_float))\n",
        "\n",
        "# Vraag welke berekening de gebruiker wil doen door het invoeren van een +, -, * of /\n",
        "\n",
        "vraag_berekening = input(\"welke berekening wil je doen: +, - , * of / , ofwel : \" )\n",
        "\n",
        "print(vraag_berekening)\n",
        "\n",
        "if vraag_berekening == \"+\":\n",
        "   sum = eerste_getal_float + twede_getal_float\n",
        "   print(sum)\n",
        "if vraag_berekening == \"-\":\n",
        "   minus = eerste_getal_float - twede_getal_float\n",
        "   print(minus)\n",
        "if vraag_berekening == \"*\":\n",
        "   mult = eerste_getal_float * twede_getal_float\n",
        "   print(mult)\n",
        "if vraag_berekening == \"/\" or vraag_berekening == \":\":\n",
        "   if eerste_getal_float == 0 or twede_getal_float == 0:\n",
        "    print(\"Kan niet delen door 0\")\n",
        "   else:\n",
        "    delen = eerste_getal_float / twede_getal_float\n",
        "    print(delen)\n",
        "else:\n",
        "   print(\"Choose a valid operator to perform the calculation\")\n",
        "print(\"Program Ends\")"
      ],
      "metadata": {
        "colab": {
          "base_uri": "https://localhost:8080/"
        },
        "id": "_bSO08LEZUCK",
        "outputId": "a1e4edbc-996d-4733-daa7-727cd41707ca"
      },
      "execution_count": 2,
      "outputs": [
        {
          "output_type": "stream",
          "name": "stdout",
          "text": [
            "Type first number 16\n",
            "Type second number 4\n",
            "<class 'float'>\n",
            "<class 'float'>\n",
            "welke berekening wil je doen: +, - , * of / , ofwel : %\n",
            "%\n",
            "Choose a valid operator to perform the calculation\n",
            "End\n"
          ]
        }
      ]
    },
    {
      "cell_type": "markdown",
      "source": [
        "### Try and except\n",
        "\n",
        "Controleer in je programma of de gekozen getallen kunnen worden omgezet in floats. Alleen als alle invoer goed is wordt de uitkomst van de berekening weergegeven."
      ],
      "metadata": {
        "id": "cNWzbaJFZtSG"
      }
    },
    {
      "cell_type": "code",
      "source": [
        "\n",
        "try:\n",
        "\n",
        "  # De input wordt automatisch omgezet naar een string.\n",
        "  eerste_getal = input(str(\"Type first number \"))\n",
        "  twede_getal = input(str(\"Type second number \"))\n",
        "\n",
        "#  Zorg dat de twee ingevoerde getallen naar een float omgezet worden.\n",
        "\n",
        "  eerste_getal_float = float(eerste_getal)\n",
        "  print(type(eerste_getal_float))\n",
        "  twede_getal_float = float(twede_getal)\n",
        "  print(type(twede_getal_float))\n",
        "\n",
        "# Vraag welke berekening de gebruiker wil doen door het invoeren van een +, -, * of /\n",
        "\n",
        "  vraag_berekening = input(\"welke berekening wil je doen: +, - , * of / , ofwel : \" )\n",
        "  print(vraag_berekening)\n",
        "\n",
        "  if vraag_berekening == \"+\":\n",
        "   sum = eerste_getal_float + twede_getal_float\n",
        "   print(sum)\n",
        "  if vraag_berekening == \"-\":\n",
        "   minus = eerste_getal_float - twede_getal_float\n",
        "   print(minus)\n",
        "  if vraag_berekening == \"*\":\n",
        "   mult = eerste_getal_float * twede_getal_float\n",
        "   print(mult)\n",
        "  if vraag_berekening == \"/\" or vraag_berekening == \":\":\n",
        "    if eerste_getal_float == 0 or twede_getal_float == 0:\n",
        "       print(\"Kan niet delen door 0\")\n",
        "    else:\n",
        "       delen = eerste_getal_float / twede_getal_float\n",
        "    print(delen)\n",
        "  else:\n",
        "   print(\"Choose a valid operator to perform the calculation\")\n",
        "\n",
        "except:\n",
        "  print(\"An exception occurred\")\n",
        "\n",
        "\n",
        "# print(\"Program Ends\")"
      ],
      "metadata": {
        "colab": {
          "base_uri": "https://localhost:8080/"
        },
        "id": "B2wq4OOCZsd2",
        "outputId": "df9ca823-2336-44a9-e13b-f7d648bc76b6"
      },
      "execution_count": 5,
      "outputs": [
        {
          "output_type": "stream",
          "name": "stdout",
          "text": [
            "Type first number 8\n",
            "Type second number 5,9\n",
            "<class 'float'>\n",
            "An exception occurred\n"
          ]
        }
      ]
    }
  ]
}